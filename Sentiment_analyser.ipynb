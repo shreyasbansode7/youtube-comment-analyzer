{
  "nbformat": 4,
  "nbformat_minor": 0,
  "metadata": {
    "colab": {
      "provenance": []
    },
    "kernelspec": {
      "name": "python3",
      "display_name": "Python 3"
    },
    "language_info": {
      "name": "python"
    }
  },
  "cells": [
    {
      "cell_type": "code",
      "execution_count": 1,
      "metadata": {
        "colab": {
          "base_uri": "https://localhost:8080/"
        },
        "id": "0m9VXC6xdqqB",
        "outputId": "ee72a038-abca-4e52-99fa-1a9f531ca120"
      },
      "outputs": [
        {
          "output_type": "stream",
          "name": "stdout",
          "text": [
            "Requirement already satisfied: pandas in /usr/local/lib/python3.10/dist-packages (1.5.3)\n",
            "Requirement already satisfied: nltk in /usr/local/lib/python3.10/dist-packages (3.8.1)\n",
            "Requirement already satisfied: python-dateutil>=2.8.1 in /usr/local/lib/python3.10/dist-packages (from pandas) (2.8.2)\n",
            "Requirement already satisfied: pytz>=2020.1 in /usr/local/lib/python3.10/dist-packages (from pandas) (2023.3.post1)\n",
            "Requirement already satisfied: numpy>=1.21.0 in /usr/local/lib/python3.10/dist-packages (from pandas) (1.23.5)\n",
            "Requirement already satisfied: click in /usr/local/lib/python3.10/dist-packages (from nltk) (8.1.7)\n",
            "Requirement already satisfied: joblib in /usr/local/lib/python3.10/dist-packages (from nltk) (1.3.2)\n",
            "Requirement already satisfied: regex>=2021.8.3 in /usr/local/lib/python3.10/dist-packages (from nltk) (2023.6.3)\n",
            "Requirement already satisfied: tqdm in /usr/local/lib/python3.10/dist-packages (from nltk) (4.66.1)\n",
            "Requirement already satisfied: six>=1.5 in /usr/local/lib/python3.10/dist-packages (from python-dateutil>=2.8.1->pandas) (1.16.0)\n"
          ]
        }
      ],
      "source": [
        "!pip install pandas nltk"
      ]
    },
    {
      "cell_type": "code",
      "source": [],
      "metadata": {
        "id": "1s7gptfKh8wh"
      },
      "execution_count": null,
      "outputs": []
    },
    {
      "cell_type": "code",
      "source": [
        "import pandas as pd\n",
        "from nltk.sentiment import SentimentIntensityAnalyzer\n",
        "\n",
        "# Download NLTK resources\n",
        "import nltk\n",
        "nltk.download('vader_lexicon')\n",
        "\n",
        "def analyze_sentiment(comment):\n",
        "    sid = SentimentIntensityAnalyzer()\n",
        "    sentiment_scores = sid.polarity_scores(comment)\n",
        "\n",
        "    if sentiment_scores['compound'] >= 0.05:\n",
        "        return 'positive'\n",
        "    elif sentiment_scores['compound'] <= -0.05:\n",
        "        return 'negative'\n",
        "    else:\n",
        "        return 'neutral'\n",
        "\n",
        "# Load the CSV file into a DataFrame\n",
        "file_path = 'comments.csv'  # Replace with your actual file path\n",
        "df = pd.read_csv(file_path)\n",
        "\n",
        "# Apply sentiment analysis to the 'text' column\n",
        "df['sentiment'] = df['text'].apply(analyze_sentiment)\n",
        "\n",
        "# Save the updated DataFrame to a new CSV file\n",
        "output_file_path = 'output_file.csv'  # Replace with your desired output file path\n",
        "df.to_csv(output_file_path, index=False)\n",
        "\n",
        "# Display the updated DataFrame\n",
        "print(df.head(100))\n"
      ],
      "metadata": {
        "colab": {
          "base_uri": "https://localhost:8080/"
        },
        "id": "Xm60LDFhdy7p",
        "outputId": "3564c7b8-b6e4-4d36-8ce2-455af7c15d00"
      },
      "execution_count": 6,
      "outputs": [
        {
          "output_type": "stream",
          "name": "stderr",
          "text": [
            "[nltk_data] Downloading package vader_lexicon to /root/nltk_data...\n",
            "[nltk_data]   Package vader_lexicon is already up-to-date!\n"
          ]
        },
        {
          "output_type": "stream",
          "name": "stdout",
          "text": [
            "    Unnamed: 0           author          published_at            updated_at  \\\n",
            "0            0     Vinayak Mali  2023-11-10T07:05:25Z  2023-11-10T07:05:25Z   \n",
            "1            1    MAYUR WALZADE  2023-11-23T15:44:51Z  2023-11-23T15:44:51Z   \n",
            "2            2    Vicky gaikwad  2023-11-23T15:44:37Z  2023-11-23T15:44:37Z   \n",
            "3            3  Chandoba reader  2023-11-23T11:28:56Z  2023-11-23T11:28:56Z   \n",
            "4            4         ⚡Mayur    2023-11-23T11:14:29Z  2023-11-23T11:15:39Z   \n",
            "..         ...              ...                   ...                   ...   \n",
            "94          94              alk  2023-11-17T09:26:13Z  2023-11-17T09:26:13Z   \n",
            "95          95         Mr. Nade  2023-11-17T09:18:42Z  2023-11-17T09:18:42Z   \n",
            "96          96     Akshit Dhodi  2023-11-17T08:42:30Z  2023-11-17T08:42:30Z   \n",
            "97          97   Avinash Ambure  2023-11-17T07:03:38Z  2023-11-17T07:03:38Z   \n",
            "98          98  Shraddha Sandan  2023-11-17T07:02:16Z  2023-11-17T07:02:16Z   \n",
            "\n",
            "    like_count                                               text sentiment  \n",
            "0         2446  दिवाळीच्या तुम्हाला व तुमच्या कुटूंबियांना हार...   neutral  \n",
            "1            0                   मस्त रे बाबा असेच व्हिडिओ करत जा   neutral  \n",
            "2            0                                    Shet 1 no video  negative  \n",
            "3            0  <a href=\"https://www.youtube.com/watch?v=buPYv...  positive  \n",
            "4            1  ते अँड असत आंड नाही <br>Time 👉 <a href=\"https:...   neutral  \n",
            "..         ...                                                ...       ...  \n",
            "94           0                   ☝️👌👌👍👍जाम भारी लय भारी भन्नाट 😂😂   neutral  \n",
            "95           0                 please <br><br>dont take A tention  positive  \n",
            "96           0  <a href=\"https://www.youtube.com/watch?v=buPYv...   neutral  \n",
            "97           0                                       छानच आहे शेठ   neutral  \n",
            "98           0                                      Nice Video ❤🤩  positive  \n",
            "\n",
            "[99 rows x 7 columns]\n"
          ]
        }
      ]
    }
  ]
}